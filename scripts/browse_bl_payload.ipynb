{
 "cells": [
  {
   "cell_type": "code",
   "execution_count": 2,
   "id": "0b6e2280",
   "metadata": {
    "ExecuteTime": {
     "end_time": "2025-03-29T01:23:22.011031Z",
     "start_time": "2025-03-29T01:23:21.606840Z"
    }
   },
   "outputs": [],
   "source": [
    "import pandas as pd\n",
    "import json\n",
    "from pprint import pprint\n",
    "from IPython.display import HTML, display\n",
    "import warnings\n",
    "warnings.filterwarnings(\"ignore\")\n",
    "pd.set_option(\"display.max_columns\", 50)"
   ]
  },
  {
   "cell_type": "code",
   "execution_count": 3,
   "id": "6356e89a",
   "metadata": {
    "ExecuteTime": {
     "end_time": "2025-03-29T01:23:22.117782Z",
     "start_time": "2025-03-29T01:23:22.079765Z"
    }
   },
   "outputs": [
    {
     "data": {
      "text/html": [
       "<div>\n",
       "<style scoped>\n",
       "    .dataframe tbody tr th:only-of-type {\n",
       "        vertical-align: middle;\n",
       "    }\n",
       "\n",
       "    .dataframe tbody tr th {\n",
       "        vertical-align: top;\n",
       "    }\n",
       "\n",
       "    .dataframe thead th {\n",
       "        text-align: right;\n",
       "    }\n",
       "</style>\n",
       "<table border=\"1\" class=\"dataframe\">\n",
       "  <thead>\n",
       "    <tr style=\"text-align: right;\">\n",
       "      <th></th>\n",
       "      <th>filename</th>\n",
       "      <th>ddg_join_ads</th>\n",
       "      <th>third_party_cookies</th>\n",
       "      <th>canvas_fingerprinting</th>\n",
       "      <th>session_recording</th>\n",
       "      <th>key_logging</th>\n",
       "      <th>fb_pixel</th>\n",
       "      <th>google_analytics</th>\n",
       "    </tr>\n",
       "  </thead>\n",
       "  <tbody>\n",
       "    <tr>\n",
       "      <th>26</th>\n",
       "      <td>completevisionformula_com</td>\n",
       "      <td>12</td>\n",
       "      <td>16</td>\n",
       "      <td>1</td>\n",
       "      <td>0</td>\n",
       "      <td>0</td>\n",
       "      <td>1</td>\n",
       "      <td>0</td>\n",
       "    </tr>\n",
       "    <tr>\n",
       "      <th>48</th>\n",
       "      <td>phonefactor_net</td>\n",
       "      <td>28</td>\n",
       "      <td>32</td>\n",
       "      <td>1</td>\n",
       "      <td>0</td>\n",
       "      <td>0</td>\n",
       "      <td>1</td>\n",
       "      <td>0</td>\n",
       "    </tr>\n",
       "    <tr>\n",
       "      <th>53</th>\n",
       "      <td>tolandherzig_com</td>\n",
       "      <td>1</td>\n",
       "      <td>1</td>\n",
       "      <td>1</td>\n",
       "      <td>0</td>\n",
       "      <td>0</td>\n",
       "      <td>0</td>\n",
       "      <td>0</td>\n",
       "    </tr>\n",
       "  </tbody>\n",
       "</table>\n",
       "</div>"
      ],
      "text/plain": [
       "                     filename  ddg_join_ads  third_party_cookies  \\\n",
       "26  completevisionformula_com            12                   16   \n",
       "48            phonefactor_net            28                   32   \n",
       "53           tolandherzig_com             1                    1   \n",
       "\n",
       "    canvas_fingerprinting  session_recording  key_logging  fb_pixel  \\\n",
       "26                      1                  0            0         1   \n",
       "48                      1                  0            0         1   \n",
       "53                      1                  0            0         0   \n",
       "\n",
       "    google_analytics  \n",
       "26                 0  \n",
       "48                 0  \n",
       "53                 0  "
      ]
     },
     "execution_count": 3,
     "metadata": {},
     "output_type": "execute_result"
    }
   ],
   "source": [
    "df_blacklight = (pd.read_csv(\"../data/blacklight_domain.csv\"))\n",
    "\n",
    "df_blacklight.query(\"canvas_fingerprinting>0\").head(3)"
   ]
  },
  {
   "cell_type": "markdown",
   "id": "759d2ccc",
   "metadata": {},
   "source": [
    "## With canvas fingerprinting"
   ]
  },
  {
   "cell_type": "code",
   "execution_count": 132,
   "id": "4f8be0ca",
   "metadata": {
    "ExecuteTime": {
     "end_time": "2025-03-27T13:55:56.197600Z",
     "start_time": "2025-03-27T13:55:56.193653Z"
    },
    "scrolled": false
   },
   "outputs": [
    {
     "name": "stdout",
     "output_type": "stream",
     "text": [
      "{'browser': {...},\n",
      " 'browsing_history': [...],\n",
      " 'config': {...},\n",
      " 'display_time': 'Jan. 7, 2025, 19:14 ET',\n",
      " 'end_time': '2025-01-08T00:14:41.252Z',\n",
      " 'groups': [...],\n",
      " 'host': 'completevisionformula.com',\n",
      " 'hosts': {...},\n",
      " 's3': {...},\n",
      " 'script': {...},\n",
      " 'secure_connection': {},\n",
      " 'start_time': '2025-01-08T00:14:30.292Z',\n",
      " 'status': 'success',\n",
      " 'title': 'Blacklight - API Request',\n",
      " 'tracker_radar_last_updated': '2024-03-20T12:00:00.000Z',\n",
      " 'uri_dest': 'https://completevisionformula.com/',\n",
      " 'uri_ins': 'http://completevisionformula.com',\n",
      " 'uri_redirects': [...]}\n"
     ]
    }
   ],
   "source": [
    "with open('../data/blacklight_json/completevisionformula_com.json', 'r') as f:\n",
    "    data = json.load(f)\n",
    "pprint(data, depth=1, width=80)"
   ]
  },
  {
   "cell_type": "code",
   "execution_count": 133,
   "id": "355b7ac7",
   "metadata": {
    "ExecuteTime": {
     "end_time": "2025-03-27T13:55:57.351550Z",
     "start_time": "2025-03-27T13:55:57.346826Z"
    }
   },
   "outputs": [
    {
     "data": {
      "text/plain": [
       "{'name': 'Chromium',\n",
       " 'version': 'HeadlessChrome/126.0.6478.0',\n",
       " 'user_agent': 'Mozilla/5.0 (X11; Linux x86_64) AppleWebKit/537.36 (KHTML, like Gecko) HeadlessChrome/126.0.6478.0 Safari/537.36',\n",
       " 'platform': {'name': 'Linux', 'version': '5.10.227-239.884.amzn2.x86_64'}}"
      ]
     },
     "execution_count": 133,
     "metadata": {},
     "output_type": "execute_result"
    }
   ],
   "source": [
    "data[\"browser\"]"
   ]
  },
  {
   "cell_type": "code",
   "execution_count": 134,
   "id": "783ce86a",
   "metadata": {
    "ExecuteTime": {
     "end_time": "2025-03-27T13:55:59.150262Z",
     "start_time": "2025-03-27T13:55:59.145665Z"
    }
   },
   "outputs": [
    {
     "data": {
      "text/plain": [
       "['https://completevisionformula.com/', 'https://completevisionformula.com/faq']"
      ]
     },
     "execution_count": 134,
     "metadata": {},
     "output_type": "execute_result"
    }
   ],
   "source": [
    "data[\"browsing_history\"]"
   ]
  },
  {
   "cell_type": "code",
   "execution_count": 150,
   "id": "696f0a8d",
   "metadata": {
    "ExecuteTime": {
     "end_time": "2025-03-27T13:57:01.568999Z",
     "start_time": "2025-03-27T13:57:01.563773Z"
    }
   },
   "outputs": [
    {
     "name": "stdout",
     "output_type": "stream",
     "text": [
      "[{'title': 'Blacklight Inspection Result',\n",
      "  'cards': [{'cardType': 'ddg_join_ads',\n",
      "             'bigNumber': 12,\n",
      "             'title': 'Ad trackers found on this site.',\n",
      "             'testEventsFound': True,\n",
      "             'body': [...],\n",
      "             'expandableList': [...],\n",
      "             'domainData': {...},\n",
      "             'onAvgStatement': 'This is <strong>more '\n",
      "                               'than</strong> the average '\n",
      "                               'of <strong>seven</strong> '\n",
      "                               'that we found on popular '\n",
      "                               'sites',\n",
      "             'surveyLink': 'https://themarkup.org/blacklight/2020/09/22/how-we-built-a-real-time-privacy-inspector#survey',\n",
      "             'methodology': 'https://themarkup.org/blacklight/2020/09/22/how-we-built-a-real-time-privacy-inspector#ad-trackers'},\n",
      "            {'title': 'Third-party cookies found.',\n",
      "             'body': [...],\n",
      "             'testEventsFound': True,\n",
      "             'bigNumber': 16,\n",
      "             'onAvgStatement': 'This is <strong>more '\n",
      "                               'than</strong> the average '\n",
      "                               'of <strong>three</strong> '\n",
      "                               'that we found on popular '\n",
      "                               'sites',\n",
      "             'domainData': {...},\n",
      "             'cardType': 'cookies',\n",
      "             'expandableList': [...],\n",
      "             'methodology': 'https://themarkup.org/blacklight/2020/09/22/how-we-built-a-real-time-privacy-inspector#third-party-cookies',\n",
      "             'surveyLink': 'https://themarkup.org/blacklight/2020/09/22/how-we-built-a-real-time-privacy-inspector#survey'},\n",
      "            {'body': [...],\n",
      "             'testEventsFound': True,\n",
      "             'caveat': 'While Blacklight accurately '\n",
      "                       'detects the presence of canvas '\n",
      "                       'fingerprinting on a website, it '\n",
      "                       'cannot determine if the purpose '\n",
      "                       'is user behavior monitoring or '\n",
      "                       'for fraud prevention or bot '\n",
      "                       'detection.',\n",
      "             'cardType': 'canvas_fingerprinters',\n",
      "             'domainData': {...},\n",
      "             'dataUrlForImage': [...],\n",
      "             'methodology': 'https://themarkup.org/blacklight/2020/09/22/how-we-built-a-real-time-privacy-inspector#canvas-fingerprinting',\n",
      "             'title': 'This website loads trackers on '\n",
      "                      'your computer that are designed to '\n",
      "                      'evade third-party cookie '\n",
      "                      'blockers.'},\n",
      "            {'body': [...],\n",
      "             'title': 'Session recording services not '\n",
      "                      'found on this website.',\n",
      "             'testEventsFound': False,\n",
      "             'caveat': 'While Blacklight can detect '\n",
      "                       'whether a session recorder was '\n",
      "                       'loaded, it cannot determine '\n",
      "                       'exactly how the collected data is '\n",
      "                       'being used.',\n",
      "             'cardType': 'session_recorders',\n",
      "             'dataUrlForImage': [],\n",
      "             'expandableList': [],\n",
      "             'methodology': 'https://themarkup.org/blacklight/2020/09/22/how-we-built-a-real-time-privacy-inspector#session-recording'},\n",
      "            {'body': [...],\n",
      "             'title': 'We did not find this website '\n",
      "                      'capturing keystrokes.',\n",
      "             'testEventsFound': False,\n",
      "             'caveat': 'There are other reasons for key '\n",
      "                       'logging, such as providing '\n",
      "                       'autocomplete functionality. '\n",
      "                       'Blacklight cannot determine the '\n",
      "                       'intent behind the inspected '\n",
      "                       'website’s use of this technique.',\n",
      "             'cardType': 'key_logging',\n",
      "             'dataUrlForImage': [],\n",
      "             'expandableList': [],\n",
      "             'methodology': 'https://themarkup.org/blacklight/2020/09/22/how-we-built-a-real-time-privacy-inspector#key-logging'},\n",
      "            {'title': 'When you visit this site, it tells '\n",
      "                      'Facebook.',\n",
      "             'body': [...],\n",
      "             'testEventsFound': True,\n",
      "             'cardType': 'fb_pixel_events',\n",
      "             'methodology': 'https://themarkup.org/blacklight/2020/09/22/how-we-built-a-real-time-privacy-inspector#facebook-pixel',\n",
      "             'domainData': None},\n",
      "            {'title': 'Google Analytics\\' \"remarketing '\n",
      "                      'audiences\" feature not found.',\n",
      "             'body': [...],\n",
      "             'testEventsFound': False,\n",
      "             'cardType': 'ga',\n",
      "             'methodology': 'https://themarkup.org/blacklight/2020/09/22/how-we-built-a-real-time-privacy-inspector#google-analytics-remarketing-audiences'}],\n",
      "  'description': ['Blacklight works by visiting each '\n",
      "                  'website with a headless browser '\n",
      "                  'running custom software built by The '\n",
      "                  'Markup. To learn more, read our <a '\n",
      "                  'href=\"https://themarkup.org/blacklight/2020/09/22/how-we-built-a-real-time-privacy-inspector\">methodology</a>.']},\n",
      " {'title': 'Some of the ad-tech companies this website '\n",
      "           'interacted with:',\n",
      "  'cards': [{'title': 'Alphabet',\n",
      "             'bl_data_type': 'script_domain',\n",
      "             'ddg_company_lookup': 'Google',\n",
      "             'body': [...],\n",
      "             'domains_found': [...],\n",
      "             'cardType': 'reported_alphabet',\n",
      "             'privacy_policy': 'https://policies.google.com/privacy?hl=en-US',\n",
      "             'last_updated': '2020-09-03T12:00:00.000Z'},\n",
      "            {'title': 'Amazon',\n",
      "             'bl_data_type': 'script_domain',\n",
      "             'ddg_company_lookup': 'Amazon',\n",
      "             'body': [...],\n",
      "             'domains_found': [...],\n",
      "             'cardType': 'reported_amazon',\n",
      "             'privacy_policy': 'https://www.amazon.com/gp/help/customer/display.html?nodeId=201909010',\n",
      "             'last_updated': '2020-09-03T12:00:00.000Z'},\n",
      "            {'title': 'Criteo',\n",
      "             'bl_data_type': 'script_domain',\n",
      "             'ddg_company_lookup': 'Criteo',\n",
      "             'body': [...],\n",
      "             'domains_found': [...],\n",
      "             'cardType': 'reported_criteo',\n",
      "             'privacy_policy': 'https://www.criteo.com/privacy/',\n",
      "             'last_updated': '2011-10-05T14:48:00.000Z'},\n",
      "            {'title': 'Microsoft',\n",
      "             'bl_data_type': 'script_domain',\n",
      "             'ddg_company_lookup': 'Microsoft',\n",
      "             'body': [...],\n",
      "             'domains_found': [...],\n",
      "             'cardType': 'reported_microsoft',\n",
      "             'privacy_policy': 'https://privacy.microsoft.com/en-us/privacystatement',\n",
      "             'last_updated': '2020-09-03T12:00:00.000Z'}],\n",
      "  'description': ['The inspected website contacted some '\n",
      "                  'well known actors in the ad-tech '\n",
      "                  'industry. Not all of these loaded '\n",
      "                  'trackers, so they may be different '\n",
      "                  'from those listed in the tests section '\n",
      "                  'above. For more information on each '\n",
      "                  'company, what it does, and which of '\n",
      "                  'its domains Blacklight found during '\n",
      "                  'the inspection, click the arrow. '\n",
      "                  'Reading this can give you a better '\n",
      "                  'idea of how the ad-tech industry '\n",
      "                  'works.'],\n",
      "  'thirdPartyTrackersFound': True}]\n"
     ]
    }
   ],
   "source": [
    "pprint(data[\"groups\"], depth=4, width=59, sort_dicts=False)"
   ]
  },
  {
   "cell_type": "code",
   "execution_count": 151,
   "id": "4932652a",
   "metadata": {
    "ExecuteTime": {
     "end_time": "2025-03-27T13:57:10.247556Z",
     "start_time": "2025-03-27T13:57:10.243445Z"
    }
   },
   "outputs": [
    {
     "data": {
      "text/plain": [
       "2"
      ]
     },
     "execution_count": 151,
     "metadata": {},
     "output_type": "execute_result"
    }
   ],
   "source": [
    "len(data[\"groups\"])"
   ]
  },
  {
   "cell_type": "code",
   "execution_count": 152,
   "id": "1a78ccc0",
   "metadata": {
    "ExecuteTime": {
     "end_time": "2025-03-27T13:57:19.719439Z",
     "start_time": "2025-03-27T13:57:19.715013Z"
    },
    "scrolled": false
   },
   "outputs": [
    {
     "data": {
      "text/plain": [
       "{'requests': {'first_party': ['completevisionformula.com',\n",
       "   'secure.completevisionformula.com'],\n",
       "  'third_party': ['fonts.googleapis.com',\n",
       "   'www.googletagmanager.com',\n",
       "   'connect.facebook.net',\n",
       "   'www.google.com',\n",
       "   's.pinimg.com',\n",
       "   'dynamic.criteo.com',\n",
       "   'www.ibph4trk.com',\n",
       "   'd9i5ve8f04qxt.cloudfront.net',\n",
       "   'analytics.tiktok.com',\n",
       "   'static.ads-twitter.com',\n",
       "   'www.clarity.ms',\n",
       "   'amplify.outbrain.com',\n",
       "   'wave.outbrain.com',\n",
       "   'tr.outbrain.com',\n",
       "   't.co',\n",
       "   'analytics.twitter.com',\n",
       "   'analytics.google.com',\n",
       "   'stats.g.doubleclick.net',\n",
       "   'gum.criteo.com',\n",
       "   'd1pqvb2h9xgm7r.cloudfront.net',\n",
       "   'www.facebook.com',\n",
       "   'ct.pinterest.com',\n",
       "   'r.clarity.ms',\n",
       "   'service3.purehealthresearch.com',\n",
       "   'c.clarity.ms',\n",
       "   'c.bing.com',\n",
       "   'sslwidget.criteo.com',\n",
       "   'csm.da.us.criteo.net']}}"
      ]
     },
     "execution_count": 152,
     "metadata": {},
     "output_type": "execute_result"
    }
   ],
   "source": [
    "data[\"hosts\"]"
   ]
  },
  {
   "cell_type": "code",
   "execution_count": 153,
   "id": "702d2efa",
   "metadata": {
    "ExecuteTime": {
     "end_time": "2025-03-27T13:57:21.502593Z",
     "start_time": "2025-03-27T13:57:21.498649Z"
    },
    "scrolled": false
   },
   "outputs": [
    {
     "data": {
      "text/plain": [
       "{'archive': 'https://mrkp-static-production.themarkup.org/blacklight-us-ca/c0bb957bbdae406c0c1f56f9ee5942b560106cc5/blacklight-inspection-completevisionformula.com.zip',\n",
       " 'report': 'https://mrkp-static-production.themarkup.org/blacklight-us-ca/c0bb957bbdae406c0c1f56f9ee5942b560106cc5/report.html',\n",
       " 'screenshots': ['https://mrkp-static-production.themarkup.org/blacklight-us-ca/c0bb957bbdae406c0c1f56f9ee5942b560106cc5/1.jpeg',\n",
       "  'https://mrkp-static-production.themarkup.org/blacklight-us-ca/c0bb957bbdae406c0c1f56f9ee5942b560106cc5/2.jpeg']}"
      ]
     },
     "execution_count": 153,
     "metadata": {},
     "output_type": "execute_result"
    }
   ],
   "source": [
    "data[\"s3\"]"
   ]
  },
  {
   "cell_type": "code",
   "execution_count": 154,
   "id": "066003aa",
   "metadata": {
    "ExecuteTime": {
     "end_time": "2025-03-27T13:57:22.175414Z",
     "start_time": "2025-03-27T13:57:22.171101Z"
    },
    "scrolled": false
   },
   "outputs": [
    {
     "data": {
      "text/plain": [
       "{'host': '169.254.123.50',\n",
       " 'version': {'npm': '3.4.0', 'commit': 'dev'},\n",
       " 'node_version': 'v18.20.4'}"
      ]
     },
     "execution_count": 154,
     "metadata": {},
     "output_type": "execute_result"
    }
   ],
   "source": [
    "data[\"script\"]"
   ]
  },
  {
   "cell_type": "code",
   "execution_count": 155,
   "id": "7656181f",
   "metadata": {
    "ExecuteTime": {
     "end_time": "2025-03-27T13:57:23.352394Z",
     "start_time": "2025-03-27T13:57:23.347880Z"
    }
   },
   "outputs": [
    {
     "data": {
      "text/plain": [
       "dict_keys(['title', 'cards', 'description'])"
      ]
     },
     "execution_count": 155,
     "metadata": {},
     "output_type": "execute_result"
    }
   ],
   "source": [
    "data[\"groups\"][0].keys()"
   ]
  },
  {
   "cell_type": "code",
   "execution_count": 141,
   "id": "421ebbec",
   "metadata": {
    "ExecuteTime": {
     "end_time": "2025-03-27T13:56:01.342019Z",
     "start_time": "2025-03-27T13:56:01.338179Z"
    }
   },
   "outputs": [
    {
     "data": {
      "text/plain": [
       "'Blacklight Inspection Result'"
      ]
     },
     "execution_count": 141,
     "metadata": {},
     "output_type": "execute_result"
    }
   ],
   "source": [
    "data[\"groups\"][0][\"title\"]"
   ]
  },
  {
   "cell_type": "code",
   "execution_count": 142,
   "id": "88db47c9",
   "metadata": {
    "ExecuteTime": {
     "end_time": "2025-03-27T13:56:01.614413Z",
     "start_time": "2025-03-27T13:56:01.610359Z"
    }
   },
   "outputs": [
    {
     "data": {
      "text/plain": [
       "['Blacklight works by visiting each website with a headless browser running custom software built by The Markup. To learn more, read our <a href=\"https://themarkup.org/blacklight/2020/09/22/how-we-built-a-real-time-privacy-inspector\">methodology</a>.']"
      ]
     },
     "execution_count": 142,
     "metadata": {},
     "output_type": "execute_result"
    }
   ],
   "source": [
    "data[\"groups\"][0][\"description\"]"
   ]
  },
  {
   "cell_type": "code",
   "execution_count": 159,
   "id": "b69fb9ad",
   "metadata": {
    "ExecuteTime": {
     "end_time": "2025-03-27T13:58:21.313381Z",
     "start_time": "2025-03-27T13:58:21.308691Z"
    }
   },
   "outputs": [
    {
     "data": {
      "text/plain": [
       "7"
      ]
     },
     "execution_count": 159,
     "metadata": {},
     "output_type": "execute_result"
    }
   ],
   "source": [
    "len(data[\"groups\"][0][\"cards\"])"
   ]
  },
  {
   "cell_type": "code",
   "execution_count": 160,
   "id": "7884f20b",
   "metadata": {
    "ExecuteTime": {
     "end_time": "2025-03-27T13:58:33.761800Z",
     "start_time": "2025-03-27T13:58:33.740423Z"
    },
    "scrolled": false
   },
   "outputs": [
    {
     "name": "stdout",
     "output_type": "stream",
     "text": [
      "\n",
      "============================ Type 1 ============================\n",
      "Card Type: ddg_join_ads\n",
      "Title: Ad trackers found on this site.\n",
      "Big Number: 12\n",
      "Test Events Found: True\n",
      "\n",
      "Body:\n"
     ]
    },
    {
     "data": {
      "text/html": [
       "Websites containing advertising tracking technology load JavaScript code or small invisible images that are used to either build your advertising profile or to identify you for ad targeting on this site. These techniques are often used in addition to cookies to profile you."
      ],
      "text/plain": [
       "<IPython.core.display.HTML object>"
      ]
     },
     "metadata": {},
     "output_type": "display_data"
    },
    {
     "data": {
      "text/html": [
       "Blacklight detected trackers on this page sending data to companies involved in online advertising. Blacklight detected scripts belonging to <strong>Outbrain</strong>, <strong>Microsoft Corporation</strong>, <span class=\"blacklight-client__more\" data-list=\"0\">and four other companies</span>."
      ],
      "text/plain": [
       "<IPython.core.display.HTML object>"
      ]
     },
     "metadata": {},
     "output_type": "display_data"
    },
    {
     "name": "stdout",
     "output_type": "stream",
     "text": [
      "\n",
      "Expandable List:\n",
      "- ['Criteo SA', 'Alphabet, Inc.', 'Twitter, Inc.', 'Facebook, Inc.']\n",
      "\n",
      "Domain Data:\n",
      "scripts: ['bing.com', 'doubleclick.net', 'outbrain.com', 'criteo.net', 'google.com', 'googletagmanager.com', 'twitter.com', 'facebook.com', 'facebook.net', 't.co', 'criteo.com', 'ads-twitter.com']\n",
      "categories: ['Ad Motivated Tracking', 'Advertising', 'Ad Fraud', 'Action Pixels', 'Embedded Content', 'Online Payment', 'CDN', 'Analytics', 'Third-Party Analytics Marketing', 'Federated Login', 'Social - Comment', 'Social - Share', 'Social Network', 'Audience Measurement', 'Badge', 'Tag Manager']\n",
      "owners: ['Criteo SA', 'Alphabet, Inc.', 'Twitter, Inc.', 'Facebook, Inc.']\n",
      "\n",
      "============================ Type 2 ============================\n",
      "Card Type: cookies\n",
      "Title: Third-party cookies found.\n",
      "Big Number: 16\n",
      "Test Events Found: True\n",
      "\n",
      "Body:\n"
     ]
    },
    {
     "data": {
      "text/html": [
       "These are commonly used by advertising tracking companies to profile you based on your internet usage."
      ],
      "text/plain": [
       "<IPython.core.display.HTML object>"
      ]
     },
     "metadata": {},
     "output_type": "display_data"
    },
    {
     "data": {
      "text/html": [
       "Blacklight detected <strong>16</strong> third-party cookies on this site.  Blacklight detected cookies set for <strong>Twitter, Inc.</strong>, <strong>Microsoft Corporation</strong> and <span class=\"blacklight-client__more\" data-list=\"0\">and two others</span>"
      ],
      "text/plain": [
       "<IPython.core.display.HTML object>"
      ]
     },
     "metadata": {},
     "output_type": "display_data"
    },
    {
     "name": "stdout",
     "output_type": "stream",
     "text": [
      "\n",
      "Expandable List:\n",
      "- ['ByteDance Ltd.', 'Microsoft Corporation', 'Twitter, Inc.', 'Criteo SA']\n",
      "\n",
      "Domain Data:\n",
      "scripts: ['tiktok.com', 'www.clarity.ms', 'twitter.com', 't.co', 'criteo.com', 'bing.com', 'c.bing.com', 'c.clarity.ms', 'clarity.ms']\n",
      "categories: ['Ad Motivated Tracking', 'Advertising', 'Analytics', 'Federated Login', 'Social - Comment', 'Social - Share', 'Embedded Content', 'Social Network', 'Audience Measurement', 'Badge', 'Third-Party Analytics Marketing', 'Ad Fraud', 'Action Pixels']\n",
      "owners: ['ByteDance Ltd.', 'Microsoft Corporation', 'Twitter, Inc.', 'Criteo SA']\n",
      "\n",
      "============================ Type 3 ============================\n",
      "Card Type: canvas_fingerprinters\n",
      "Title: This website loads trackers on your computer that are designed to evade third-party cookie blockers.\n",
      "Big Number: N/A\n",
      "Test Events Found: True\n",
      "\n",
      "Body:\n"
     ]
    },
    {
     "data": {
      "text/html": [
       "Canvas fingerprinting was detected on this website. This technique is designed to identify users even if they block third-party cookies. It can be used to track users' behavior across sites. This technique was used by six percent of popular sites when we <a href=\"https://themarkup.org/blacklight/2020/09/22/how-we-built-a-real-time-privacy-inspector#survey\"> scanned them</a> in September 2020."
      ],
      "text/plain": [
       "<IPython.core.display.HTML object>"
      ]
     },
     "metadata": {},
     "output_type": "display_data"
    },
    {
     "data": {
      "text/html": [
       " Blacklight detected a script loaded from <strong>ibph4trk.com</strong> doing this on this site."
      ],
      "text/plain": [
       "<IPython.core.display.HTML object>"
      ]
     },
     "metadata": {},
     "output_type": "display_data"
    },
    {
     "data": {
      "text/html": [
       "It secretly draws the following image on your browser when you visit this website for the purpose of identifying your device."
      ],
      "text/plain": [
       "<IPython.core.display.HTML object>"
      ]
     },
     "metadata": {},
     "output_type": "display_data"
    },
    {
     "name": "stdout",
     "output_type": "stream",
     "text": [
      "\n",
      "Domain Data:\n",
      "scripts: ['ibph4trk.com']\n",
      "categories: []\n",
      "owners: []\n",
      "\n",
      "============================ Type 4 ============================\n",
      "Card Type: session_recorders\n",
      "Title: Session recording services not found on this website.\n",
      "Big Number: N/A\n",
      "Test Events Found: False\n",
      "\n",
      "Body:\n"
     ]
    },
    {
     "data": {
      "text/html": [
       "Blacklight did not detect the use of a session recorder, which tracks user mouse movement, clicks, taps, scrolls, or even network activity. Websites that use the technique compile this data into videos and heat maps that website owners can watch to see how users interact with the site. Research has shown these practices are insecure and make sensitive user data such as passwords and credit card information more vulnerable to leaks. This technique was used by fifteen percent of popular websites when we <a href=\"https://themarkup.org/blacklight/2020/09/22/how-we-built-a-real-time-privacy-inspector#survey\"> scanned them</a> in September 2020."
      ],
      "text/plain": [
       "<IPython.core.display.HTML object>"
      ]
     },
     "metadata": {},
     "output_type": "display_data"
    },
    {
     "name": "stdout",
     "output_type": "stream",
     "text": [
      "\n",
      "Expandable List:\n",
      "\n",
      "============================ Type 5 ============================\n",
      "Card Type: key_logging\n",
      "Title: We did not find this website capturing keystrokes.\n",
      "Big Number: N/A\n",
      "Test Events Found: False\n",
      "\n",
      "Body:\n"
     ]
    },
    {
     "data": {
      "text/html": [
       "Key logging is when a website captures the text that you type into a web page before you hit the submit button. This technique has been used to identify anonymous web users by matching them to postal addresses and real names. This technique was used by four percent of popular websites when we <a href=\"https://themarkup.org/blacklight/2020/09/22/how-we-built-a-real-time-privacy-inspector#survey\"> scanned them</a> in September 2020."
      ],
      "text/plain": [
       "<IPython.core.display.HTML object>"
      ]
     },
     "metadata": {},
     "output_type": "display_data"
    },
    {
     "name": "stdout",
     "output_type": "stream",
     "text": [
      "\n",
      "Expandable List:\n",
      "\n",
      "============================ Type 6 ============================\n",
      "Card Type: fb_pixel_events\n",
      "Title: When you visit this site, it tells Facebook.\n",
      "Big Number: N/A\n",
      "Test Events Found: True\n",
      "\n",
      "Body:\n"
     ]
    },
    {
     "data": {
      "text/html": [
       "The Facebook pixel is a snippet of code that sends data back to Facebook about people who visit this site and allows the site operator to later target them with ads on Facebook. A Facebook spokesperson told The Markup that the company set up this system so that a user doesn’t have to be “simultaneously logged into Facebook and viewing a third-party website for our business tools to function.” Common actions that can be tracked via pixel include viewing a page or specific content, adding payment information, or making a purchase. The Facebook pixel appeared in thirty percent of popular websites when we <a href=\"https://themarkup.org/blacklight/2020/09/22/how-we-built-a-real-time-privacy-inspector#survey\"> scanned them</a> in September 2020."
      ],
      "text/plain": [
       "<IPython.core.display.HTML object>"
      ]
     },
     "metadata": {},
     "output_type": "display_data"
    },
    {
     "name": "stdout",
     "output_type": "stream",
     "text": [
      "\n",
      "============================ Type 7 ============================\n",
      "Card Type: ga\n",
      "Title: Google Analytics' \"remarketing audiences\" feature not found.\n",
      "Big Number: N/A\n",
      "Test Events Found: False\n",
      "\n",
      "Body:\n"
     ]
    },
    {
     "data": {
      "text/html": [
       "The Google Analytics \"remarketing audiences\" feature enables user tracking for targeted advertising across the internet. This feature allows a website to build custom audiences based on how a user interacts with this particular site and then follow those users across the internet and target them with advertising on other sites using Google Ads and Display & Video 360. A Google spokesperson told The Markup that site operators are <a href=\"https://support.google.com/analytics/answer/2700409?hl=en\"> supposed to</a> inform visitors when data collected with this feature is used to connect this browsing data with someone’s real-world identity. You know when those shoes you were looking at follow you around the internet? This is one of the trackers leading to that. This feature appeared in fifty percent of popular websites when we <a href=\"https://themarkup.org/blacklight/2020/09/22/how-we-built-a-real-time-privacy-inspector#survey\"> scanned them</a> in September 2020."
      ],
      "text/plain": [
       "<IPython.core.display.HTML object>"
      ]
     },
     "metadata": {},
     "output_type": "display_data"
    }
   ],
   "source": [
    "for i, card in enumerate(data[\"groups\"][0][\"cards\"], 1):\n",
    "    print(f\"\\n============================ Type {i} ============================\")\n",
    "    print(f\"Card Type: {card.get('cardType', 'N/A')}\")\n",
    "    print(f\"Title: {card.get('title', 'N/A')}\")\n",
    "    # Num of trackers?\n",
    "    print(f\"Big Number: {card.get('bigNumber', 'N/A')}\")\n",
    "    # Yes/no for detection of tracking type\n",
    "    print(f\"Test Events Found: {card.get('testEventsFound', 'N/A')}\")\n",
    "    \n",
    "    # Print body content\n",
    "    print(\"\\nBody:\")\n",
    "    for paragraph in card.get(\"body\", []):\n",
    "        display(HTML(paragraph))\n",
    "    \n",
    "    # Print expandable list if available -- seems to be a selection and not all\n",
    "    if \"expandableList\" in card:\n",
    "        print(\"\\nExpandable List:\")\n",
    "        for item in card[\"expandableList\"]:\n",
    "            print(\"-\", item)\n",
    "    \n",
    "    # Print domain data if available\n",
    "    if \"domainData\" in card and card[\"domainData\"] is not None:\n",
    "        print(\"\\nDomain Data:\")\n",
    "        for k, v in card[\"domainData\"].items():\n",
    "            print(f\"{k}: {v}\")\n"
   ]
  },
  {
   "cell_type": "code",
   "execution_count": 129,
   "id": "f804b4a4",
   "metadata": {
    "ExecuteTime": {
     "end_time": "2025-03-27T13:54:48.471690Z",
     "start_time": "2025-03-27T13:54:48.467044Z"
    },
    "scrolled": true
   },
   "outputs": [
    {
     "data": {
      "text/plain": [
       "{'title': 'Some of the ad-tech companies this website interacted with:',\n",
       " 'cards': [{'title': 'Alphabet',\n",
       "   'bl_data_type': 'script_domain',\n",
       "   'ddg_company_lookup': 'Google',\n",
       "   'body': ['Blacklight detected this website sending user data to <a href=https://abc.xyz/>Alphabet,</a> the technology conglomerate that encompasses Google and associated companies like <a href=https://nest.com/>Nest</a>. The Silicon Valley giant collects data from twice the number of websites as its closest competitor, Facebook. An Alphabet spokesperson told The Markup that internet users can <a href=https://adssettings.google.com/authenticated>go here</a> if they want to opt out of the company showing them targeted ads based on their browsing history. ',\n",
       "    'The site sent information to the following domains <strong>doubleclick.net</strong>, <strong>google.com</strong>, <strong>googletagmanager.com</strong>.'],\n",
       "   'domains_found': ['<strong>doubleclick.net</strong>',\n",
       "    '<strong>google.com</strong>',\n",
       "    '<strong>googletagmanager.com</strong>'],\n",
       "   'cardType': 'reported_alphabet',\n",
       "   'privacy_policy': 'https://policies.google.com/privacy?hl=en-US',\n",
       "   'last_updated': '2020-09-03T12:00:00.000Z'},\n",
       "  {'title': 'Amazon',\n",
       "   'bl_data_type': 'script_domain',\n",
       "   'ddg_company_lookup': 'Amazon',\n",
       "   'body': ['Blacklight detected the inspected website sending user data to <a href=https://www.amazon.com/>Amazon,</a> which has a wide variety of business units. The most commonly appearing Amazon trackers in our scan of popular sites in <a href=https://themarkup.org/blacklight/2020/09/22/how-we-built-a-real-time-privacy-inspector#survey>September 2020</a> were those for <a href=https://docs.aws.amazon.com/AmazonCloudFront/latest/DeveloperGuide/Introduction.html>CloudFront</a> and its marketing research arm, <a href=https://www.alexa.com/>Alexa,</a> which helps marketers improve their search engine performance and provides site operators insights about the popularity of their websites. (This Alexa is unrelated to Amazon’s virtual assistant of the same name.) Representatives from Amazon did not respond to multiple requests for comment.',\n",
       "    ' The site sent information to the following domain <strong>cloudfront.net</strong>.'],\n",
       "   'domains_found': ['<strong>cloudfront.net</strong>'],\n",
       "   'cardType': 'reported_amazon',\n",
       "   'privacy_policy': 'https://www.amazon.com/gp/help/customer/display.html?nodeId=201909010',\n",
       "   'last_updated': '2020-09-03T12:00:00.000Z'},\n",
       "  {'title': 'Criteo',\n",
       "   'bl_data_type': 'script_domain',\n",
       "   'ddg_company_lookup': 'Criteo',\n",
       "   'body': [\"Blacklight detected the inspected website sending user data to the advertising technology company <a href=https://www.criteo.com/>Criteo</a>, which a company spokesperson told The Markup specializes in what are called “re<a href=https://digiday.com/media/criteo-megan-clarken-interview-q4/ >targeting</a> campaigns,” targeting advertisements across the internet at people who have already visited the advertiser's digital properties. Decisions about which previous site visitors to target are made with <a href=https://digital.hbs.edu/platform-digit/submission/criteo-how-much-personalized-retargeting-is-too-much/?sort=post_date-new  >profiles</a> compiled by the company about consumers’ interests and previous shopping behavior. Speaking in July 2020, CEO Megan Clarken said that the company had data on “2.5 billion unique users globally, of which 98 percent had persistent identifiers beyond cookies.” \",\n",
       "    'The site sent information to the following domains <strong>criteo.com</strong>, <strong>criteo.net</strong>.'],\n",
       "   'domains_found': ['<strong>criteo.com</strong>',\n",
       "    '<strong>criteo.net</strong>'],\n",
       "   'cardType': 'reported_criteo',\n",
       "   'privacy_policy': 'https://www.criteo.com/privacy/',\n",
       "   'last_updated': '2011-10-05T14:48:00.000Z'},\n",
       "  {'title': 'Microsoft',\n",
       "   'bl_data_type': 'script_domain',\n",
       "   'ddg_company_lookup': 'Microsoft',\n",
       "   'body': ['Blacklight detected the inspected <a href=https://www.xandr.com/news/att-consolidates-its-open-programmatic-spend-on-the-appnexus-dsp/ >website</a> sending <a href=https://azure.microsoft.com/en-us/services/cognitive-services/bing-custom-search/>use</a>r data to <a href=https://www.microsoft.com/en-us/>Microsoft.</a> In addition to its well-known products and services, the tech behemoth <a href=https://about.ads.microsoft.com/en-us/h/a/microsoft-advertising>sells</a> ads on Microsoft properties and websites that use Microsoft’s search engine, Bing, for internal site searches. It also runs the <a href=https://about.ads.microsoft.com/en-us/solutions/microsoft-audience-network >Microsoft Audience Network</a>, which uses data gathered about consumers to target ads. Of the many Microsoft-related trackers that appeared in our scan of the internet’s top 80,000 most popular websites, those associated with Bing were the most common. Microsoft’s wide variety of business units include <a href=https://www.xandr.com/>Xandr</a>, which runs platforms both for website operators to offer space for sale to advertisers and for advertisers to offer to buy advertising space. A Microsoft spokesperson declined to tell The Markup how user data being sent to its domains was being used.',\n",
       "    ' The site sent information to the following domain <strong>bing.com</strong>.'],\n",
       "   'domains_found': ['<strong>bing.com</strong>'],\n",
       "   'cardType': 'reported_microsoft',\n",
       "   'privacy_policy': 'https://privacy.microsoft.com/en-us/privacystatement',\n",
       "   'last_updated': '2020-09-03T12:00:00.000Z'}],\n",
       " 'description': ['The inspected website contacted some well known actors in the ad-tech industry. Not all of these loaded trackers, so they may be different from those listed in the tests section above. For more information on each company, what it does, and which of its domains Blacklight found during the inspection, click the arrow. Reading this can give you a better idea of how the ad-tech industry works.'],\n",
       " 'thirdPartyTrackersFound': True}"
      ]
     },
     "execution_count": 129,
     "metadata": {},
     "output_type": "execute_result"
    }
   ],
   "source": [
    "data[\"groups\"][1]"
   ]
  },
  {
   "cell_type": "code",
   "execution_count": 161,
   "id": "c3af3996",
   "metadata": {
    "ExecuteTime": {
     "end_time": "2025-03-27T13:58:45.117879Z",
     "start_time": "2025-03-27T13:58:45.101163Z"
    },
    "scrolled": false
   },
   "outputs": [
    {
     "name": "stdout",
     "output_type": "stream",
     "text": [
      "\n",
      "============================ Company 1 ============================\n",
      "Card Type: reported_alphabet\n",
      "Title: Alphabet\n",
      "Big Number: N/A\n",
      "Test Events Found: N/A\n",
      "\n",
      "Body:\n"
     ]
    },
    {
     "data": {
      "text/html": [
       "Blacklight detected this website sending user data to <a href=https://abc.xyz/>Alphabet,</a> the technology conglomerate that encompasses Google and associated companies like <a href=https://nest.com/>Nest</a>. The Silicon Valley giant collects data from twice the number of websites as its closest competitor, Facebook. An Alphabet spokesperson told The Markup that internet users can <a href=https://adssettings.google.com/authenticated>go here</a> if they want to opt out of the company showing them targeted ads based on their browsing history. "
      ],
      "text/plain": [
       "<IPython.core.display.HTML object>"
      ]
     },
     "metadata": {},
     "output_type": "display_data"
    },
    {
     "data": {
      "text/html": [
       "The site sent information to the following domains <strong>doubleclick.net</strong>, <strong>google.com</strong>, <strong>googletagmanager.com</strong>."
      ],
      "text/plain": [
       "<IPython.core.display.HTML object>"
      ]
     },
     "metadata": {},
     "output_type": "display_data"
    },
    {
     "name": "stdout",
     "output_type": "stream",
     "text": [
      "\n",
      "============================ Company 2 ============================\n",
      "Card Type: reported_amazon\n",
      "Title: Amazon\n",
      "Big Number: N/A\n",
      "Test Events Found: N/A\n",
      "\n",
      "Body:\n"
     ]
    },
    {
     "data": {
      "text/html": [
       "Blacklight detected the inspected website sending user data to <a href=https://www.amazon.com/>Amazon,</a> which has a wide variety of business units. The most commonly appearing Amazon trackers in our scan of popular sites in <a href=https://themarkup.org/blacklight/2020/09/22/how-we-built-a-real-time-privacy-inspector#survey>September 2020</a> were those for <a href=https://docs.aws.amazon.com/AmazonCloudFront/latest/DeveloperGuide/Introduction.html>CloudFront</a> and its marketing research arm, <a href=https://www.alexa.com/>Alexa,</a> which helps marketers improve their search engine performance and provides site operators insights about the popularity of their websites. (This Alexa is unrelated to Amazon’s virtual assistant of the same name.) Representatives from Amazon did not respond to multiple requests for comment."
      ],
      "text/plain": [
       "<IPython.core.display.HTML object>"
      ]
     },
     "metadata": {},
     "output_type": "display_data"
    },
    {
     "data": {
      "text/html": [
       " The site sent information to the following domain <strong>cloudfront.net</strong>."
      ],
      "text/plain": [
       "<IPython.core.display.HTML object>"
      ]
     },
     "metadata": {},
     "output_type": "display_data"
    },
    {
     "name": "stdout",
     "output_type": "stream",
     "text": [
      "\n",
      "============================ Company 3 ============================\n",
      "Card Type: reported_criteo\n",
      "Title: Criteo\n",
      "Big Number: N/A\n",
      "Test Events Found: N/A\n",
      "\n",
      "Body:\n"
     ]
    },
    {
     "data": {
      "text/html": [
       "Blacklight detected the inspected website sending user data to the advertising technology company <a href=https://www.criteo.com/>Criteo</a>, which a company spokesperson told The Markup specializes in what are called “re<a href=https://digiday.com/media/criteo-megan-clarken-interview-q4/ >targeting</a> campaigns,” targeting advertisements across the internet at people who have already visited the advertiser's digital properties. Decisions about which previous site visitors to target are made with <a href=https://digital.hbs.edu/platform-digit/submission/criteo-how-much-personalized-retargeting-is-too-much/?sort=post_date-new  >profiles</a> compiled by the company about consumers’ interests and previous shopping behavior. Speaking in July 2020, CEO Megan Clarken said that the company had data on “2.5 billion unique users globally, of which 98 percent had persistent identifiers beyond cookies.” "
      ],
      "text/plain": [
       "<IPython.core.display.HTML object>"
      ]
     },
     "metadata": {},
     "output_type": "display_data"
    },
    {
     "data": {
      "text/html": [
       "The site sent information to the following domains <strong>criteo.com</strong>, <strong>criteo.net</strong>."
      ],
      "text/plain": [
       "<IPython.core.display.HTML object>"
      ]
     },
     "metadata": {},
     "output_type": "display_data"
    },
    {
     "name": "stdout",
     "output_type": "stream",
     "text": [
      "\n",
      "============================ Company 4 ============================\n",
      "Card Type: reported_microsoft\n",
      "Title: Microsoft\n",
      "Big Number: N/A\n",
      "Test Events Found: N/A\n",
      "\n",
      "Body:\n"
     ]
    },
    {
     "data": {
      "text/html": [
       "Blacklight detected the inspected <a href=https://www.xandr.com/news/att-consolidates-its-open-programmatic-spend-on-the-appnexus-dsp/ >website</a> sending <a href=https://azure.microsoft.com/en-us/services/cognitive-services/bing-custom-search/>use</a>r data to <a href=https://www.microsoft.com/en-us/>Microsoft.</a> In addition to its well-known products and services, the tech behemoth <a href=https://about.ads.microsoft.com/en-us/h/a/microsoft-advertising>sells</a> ads on Microsoft properties and websites that use Microsoft’s search engine, Bing, for internal site searches. It also runs the <a href=https://about.ads.microsoft.com/en-us/solutions/microsoft-audience-network >Microsoft Audience Network</a>, which uses data gathered about consumers to target ads. Of the many Microsoft-related trackers that appeared in our scan of the internet’s top 80,000 most popular websites, those associated with Bing were the most common. Microsoft’s wide variety of business units include <a href=https://www.xandr.com/>Xandr</a>, which runs platforms both for website operators to offer space for sale to advertisers and for advertisers to offer to buy advertising space. A Microsoft spokesperson declined to tell The Markup how user data being sent to its domains was being used."
      ],
      "text/plain": [
       "<IPython.core.display.HTML object>"
      ]
     },
     "metadata": {},
     "output_type": "display_data"
    },
    {
     "data": {
      "text/html": [
       " The site sent information to the following domain <strong>bing.com</strong>."
      ],
      "text/plain": [
       "<IPython.core.display.HTML object>"
      ]
     },
     "metadata": {},
     "output_type": "display_data"
    }
   ],
   "source": [
    "# Some of the ad-tech companies this website interacted with\n",
    "for i, card in enumerate(data[\"groups\"][1][\"cards\"], 1):\n",
    "    print(f\"\\n============================ Company {i} ============================\")\n",
    "    print(f\"Card Type: {card.get('cardType', 'N/A')}\")\n",
    "    print(f\"Title: {card.get('title', 'N/A')}\")\n",
    "    # Num of trackers?\n",
    "    print(f\"Big Number: {card.get('bigNumber', 'N/A')}\")\n",
    "    # Yes/no for detection of tracking type\n",
    "    print(f\"Test Events Found: {card.get('testEventsFound', 'N/A')}\")\n",
    "    \n",
    "    # Print body content\n",
    "    print(\"\\nBody:\")\n",
    "    for paragraph in card.get(\"body\", []):\n",
    "        display(HTML(paragraph))\n",
    "    \n",
    "    # Print expandable list if available\n",
    "    if \"expandableList\" in card:\n",
    "        print(\"\\nExpandable List:\")\n",
    "        for item in card[\"expandableList\"]:\n",
    "            print(\"-\", item)\n",
    "    \n",
    "    # Print domain data if available\n",
    "    if \"domainData\" in card and card[\"domainData\"] is not None:\n",
    "        print(\"\\nDomain Data:\")\n",
    "        for k, v in card[\"domainData\"].items():\n",
    "            print(f\"{k}: {v}\")\n"
   ]
  },
  {
   "cell_type": "markdown",
   "id": "c3c8def2",
   "metadata": {},
   "source": [
    "## With key logging"
   ]
  },
  {
   "cell_type": "code",
   "execution_count": 5,
   "id": "a4d82508",
   "metadata": {
    "ExecuteTime": {
     "end_time": "2025-03-29T01:23:37.304308Z",
     "start_time": "2025-03-29T01:23:37.294572Z"
    }
   },
   "outputs": [
    {
     "data": {
      "text/html": [
       "<div>\n",
       "<style scoped>\n",
       "    .dataframe tbody tr th:only-of-type {\n",
       "        vertical-align: middle;\n",
       "    }\n",
       "\n",
       "    .dataframe tbody tr th {\n",
       "        vertical-align: top;\n",
       "    }\n",
       "\n",
       "    .dataframe thead th {\n",
       "        text-align: right;\n",
       "    }\n",
       "</style>\n",
       "<table border=\"1\" class=\"dataframe\">\n",
       "  <thead>\n",
       "    <tr style=\"text-align: right;\">\n",
       "      <th></th>\n",
       "      <th>filename</th>\n",
       "      <th>ddg_join_ads</th>\n",
       "      <th>third_party_cookies</th>\n",
       "      <th>canvas_fingerprinting</th>\n",
       "      <th>session_recording</th>\n",
       "      <th>key_logging</th>\n",
       "      <th>fb_pixel</th>\n",
       "      <th>google_analytics</th>\n",
       "    </tr>\n",
       "  </thead>\n",
       "  <tbody>\n",
       "    <tr>\n",
       "      <th>63</th>\n",
       "      <td>nicelocal_com</td>\n",
       "      <td>4</td>\n",
       "      <td>0</td>\n",
       "      <td>0</td>\n",
       "      <td>0</td>\n",
       "      <td>1</td>\n",
       "      <td>0</td>\n",
       "      <td>1</td>\n",
       "    </tr>\n",
       "    <tr>\n",
       "      <th>74</th>\n",
       "      <td>veterinarians_org</td>\n",
       "      <td>7</td>\n",
       "      <td>8</td>\n",
       "      <td>0</td>\n",
       "      <td>0</td>\n",
       "      <td>1</td>\n",
       "      <td>1</td>\n",
       "      <td>0</td>\n",
       "    </tr>\n",
       "    <tr>\n",
       "      <th>78</th>\n",
       "      <td>zennioptical_com</td>\n",
       "      <td>0</td>\n",
       "      <td>0</td>\n",
       "      <td>1</td>\n",
       "      <td>0</td>\n",
       "      <td>1</td>\n",
       "      <td>0</td>\n",
       "      <td>0</td>\n",
       "    </tr>\n",
       "  </tbody>\n",
       "</table>\n",
       "</div>"
      ],
      "text/plain": [
       "             filename  ddg_join_ads  third_party_cookies  \\\n",
       "63      nicelocal_com             4                    0   \n",
       "74  veterinarians_org             7                    8   \n",
       "78   zennioptical_com             0                    0   \n",
       "\n",
       "    canvas_fingerprinting  session_recording  key_logging  fb_pixel  \\\n",
       "63                      0                  0            1         0   \n",
       "74                      0                  0            1         1   \n",
       "78                      1                  0            1         0   \n",
       "\n",
       "    google_analytics  \n",
       "63                 1  \n",
       "74                 0  \n",
       "78                 0  "
      ]
     },
     "execution_count": 5,
     "metadata": {},
     "output_type": "execute_result"
    }
   ],
   "source": [
    "df_blacklight.query(\"key_logging>0\").head(3)"
   ]
  },
  {
   "cell_type": "code",
   "execution_count": 9,
   "id": "d586a395",
   "metadata": {
    "ExecuteTime": {
     "end_time": "2025-03-29T01:24:08.370508Z",
     "start_time": "2025-03-29T01:24:08.366346Z"
    },
    "scrolled": false
   },
   "outputs": [
    {
     "name": "stdout",
     "output_type": "stream",
     "text": [
      "{'browser': {...},\n",
      " 'browsing_history': [...],\n",
      " 'config': {...},\n",
      " 'display_time': 'Jan. 13, 2025, 01:05 ET',\n",
      " 'end_time': '2025-01-13T06:05:56.665Z',\n",
      " 'groups': [...],\n",
      " 'host': 'nicelocal.com',\n",
      " 'hosts': {...},\n",
      " 's3': {...},\n",
      " 'script': {...},\n",
      " 'secure_connection': {},\n",
      " 'start_time': '2025-01-13T06:05:41.350Z',\n",
      " 'status': 'success',\n",
      " 'title': 'Blacklight - API Request',\n",
      " 'tracker_radar_last_updated': '2024-03-20T12:00:00.000Z',\n",
      " 'uri_dest': 'https://zoon.com.ua/',\n",
      " 'uri_ins': 'http://nicelocal.com',\n",
      " 'uri_redirects': [...]}\n"
     ]
    }
   ],
   "source": [
    "with open('../data/blacklight_json/nicelocal_com.json', 'r') as f:\n",
    "    data = json.load(f)\n",
    "pprint(data, depth=1, width=80)"
   ]
  },
  {
   "cell_type": "code",
   "execution_count": 10,
   "id": "24adcd5b",
   "metadata": {
    "ExecuteTime": {
     "end_time": "2025-03-29T01:24:08.642895Z",
     "start_time": "2025-03-29T01:24:08.638842Z"
    }
   },
   "outputs": [
    {
     "data": {
      "text/plain": [
       "['https://zoon.com.ua/', 'https://zoon.com.ua/kiev/law/']"
      ]
     },
     "execution_count": 10,
     "metadata": {},
     "output_type": "execute_result"
    }
   ],
   "source": [
    "data[\"browsing_history\"]"
   ]
  },
  {
   "cell_type": "code",
   "execution_count": 11,
   "id": "41f400e2",
   "metadata": {
    "ExecuteTime": {
     "end_time": "2025-03-29T01:24:19.875093Z",
     "start_time": "2025-03-29T01:24:19.870105Z"
    }
   },
   "outputs": [
    {
     "name": "stdout",
     "output_type": "stream",
     "text": [
      "[{'title': 'Blacklight Inspection Result',\n",
      "  'cards': [{'cardType': 'ddg_join_ads',\n",
      "             'bigNumber': 4,\n",
      "             'title': 'Ad trackers found on this site.',\n",
      "             'testEventsFound': True,\n",
      "             'body': [...],\n",
      "             'expandableList': [...],\n",
      "             'domainData': {...},\n",
      "             'onAvgStatement': 'This is <strong>less '\n",
      "                               'than</strong> the average '\n",
      "                               'of <strong>seven</strong> '\n",
      "                               'that we found on popular '\n",
      "                               'sites',\n",
      "             'surveyLink': 'https://themarkup.org/blacklight/2020/09/22/how-we-built-a-real-time-privacy-inspector#survey',\n",
      "             'methodology': 'https://themarkup.org/blacklight/2020/09/22/how-we-built-a-real-time-privacy-inspector#ad-trackers'},\n",
      "            {'title': 'No third-party cookies found.',\n",
      "             'body': [...],\n",
      "             'testEventsFound': False,\n",
      "             'bigNumber': 0,\n",
      "             'onAvgStatement': 'We found an average of '\n",
      "                               '<strong>three</strong> on '\n",
      "                               'popular sites.',\n",
      "             'domainData': {...},\n",
      "             'cardType': 'cookies',\n",
      "             'methodology': 'https://themarkup.org/blacklight/2020/09/22/how-we-built-a-real-time-privacy-inspector#third-party-cookies',\n",
      "             'surveyLink': 'https://themarkup.org/blacklight/2020/09/22/how-we-built-a-real-time-privacy-inspector#survey'},\n",
      "            {'body': [...],\n",
      "             'title': 'Tracking that evades cookie '\n",
      "                      \"blockers wasn't found.\",\n",
      "             'testEventsFound': False,\n",
      "             'caveat': 'While Blacklight accurately '\n",
      "                       'detects the presence of canvas '\n",
      "                       'fingerprinting on a website, it '\n",
      "                       'cannot determine if the purpose '\n",
      "                       'is user behavior monitoring or '\n",
      "                       'for fraud prevention or bot '\n",
      "                       'detection.',\n",
      "             'cardType': 'canvas_fingerprinters',\n",
      "             'dataUrlForImage': [],\n",
      "             'expandableList': [],\n",
      "             'methodology': 'https://themarkup.org/blacklight/2020/09/22/how-we-built-a-real-time-privacy-inspector#canvas-fingerprinting'},\n",
      "            {'body': [...],\n",
      "             'title': 'Session recording services not '\n",
      "                      'found on this website.',\n",
      "             'testEventsFound': False,\n",
      "             'caveat': 'While Blacklight can detect '\n",
      "                       'whether a session recorder was '\n",
      "                       'loaded, it cannot determine '\n",
      "                       'exactly how the collected data is '\n",
      "                       'being used.',\n",
      "             'cardType': 'session_recorders',\n",
      "             'dataUrlForImage': [],\n",
      "             'expandableList': [],\n",
      "             'methodology': 'https://themarkup.org/blacklight/2020/09/22/how-we-built-a-real-time-privacy-inspector#session-recording'},\n",
      "            {'body': [...],\n",
      "             'testEventsFound': True,\n",
      "             'caveat': 'There are other reasons for key '\n",
      "                       'logging, such as providing '\n",
      "                       'autocomplete functionality. '\n",
      "                       'Blacklight cannot determine the '\n",
      "                       'intent behind the inspected '\n",
      "                       'website’s use of this technique.',\n",
      "             'cardType': 'key_logging',\n",
      "             'domainData': {...},\n",
      "             'dataUrlForImage': [],\n",
      "             'methodology': 'https://themarkup.org/blacklight/2020/09/22/how-we-built-a-real-time-privacy-inspector#key-logging',\n",
      "             'title': 'We found this website capturing '\n",
      "                      'user keystrokes.'},\n",
      "            {'title': 'Facebook Pixel not found on this '\n",
      "                      'website.',\n",
      "             'body': [...],\n",
      "             'testEventsFound': False,\n",
      "             'cardType': 'fb_pixel_events',\n",
      "             'methodology': 'https://themarkup.org/blacklight/2020/09/22/how-we-built-a-real-time-privacy-inspector#facebook-pixel',\n",
      "             'expandableList': [],\n",
      "             'domainData': None},\n",
      "            {'title': 'This site allows Google Analytics '\n",
      "                      'to follow you across the internet.',\n",
      "             'body': [...],\n",
      "             'testEventsFound': True,\n",
      "             'cardType': 'ga',\n",
      "             'methodology': 'https://themarkup.org/blacklight/2020/09/22/how-we-built-a-real-time-privacy-inspector#google-analytics-remarketing-audiences'}],\n",
      "  'description': ['Blacklight works by visiting each '\n",
      "                  'website with a headless browser '\n",
      "                  'running custom software built by The '\n",
      "                  'Markup. To learn more, read our <a '\n",
      "                  'href=\"https://themarkup.org/blacklight/2020/09/22/how-we-built-a-real-time-privacy-inspector\">methodology</a>.']},\n",
      " {'title': 'Some of the ad-tech companies this website '\n",
      "           'interacted with:',\n",
      "  'cards': [{'title': 'Alphabet',\n",
      "             'bl_data_type': 'script_domain',\n",
      "             'ddg_company_lookup': 'Google',\n",
      "             'body': [...],\n",
      "             'domains_found': [...],\n",
      "             'cardType': 'reported_alphabet',\n",
      "             'privacy_policy': 'https://policies.google.com/privacy?hl=en-US',\n",
      "             'last_updated': '2020-09-03T12:00:00.000Z'}],\n",
      "  'description': ['The inspected website contacted some '\n",
      "                  'well known actors in the ad-tech '\n",
      "                  'industry. Not all of these loaded '\n",
      "                  'trackers, so they may be different '\n",
      "                  'from those listed in the tests section '\n",
      "                  'above. For more information on each '\n",
      "                  'company, what it does, and which of '\n",
      "                  'its domains Blacklight found during '\n",
      "                  'the inspection, click the arrow. '\n",
      "                  'Reading this can give you a better '\n",
      "                  'idea of how the ad-tech industry '\n",
      "                  'works.'],\n",
      "  'thirdPartyTrackersFound': True}]\n"
     ]
    }
   ],
   "source": [
    "pprint(data[\"groups\"], depth=4, width=59, sort_dicts=False)"
   ]
  },
  {
   "cell_type": "code",
   "execution_count": 19,
   "id": "598d20bc",
   "metadata": {
    "ExecuteTime": {
     "end_time": "2025-03-29T01:24:58.644358Z",
     "start_time": "2025-03-29T01:24:58.622884Z"
    },
    "scrolled": false
   },
   "outputs": [
    {
     "name": "stdout",
     "output_type": "stream",
     "text": [
      "\n",
      "============================ Type 1 ============================\n",
      "Card Type: ddg_join_ads\n",
      "Title: Ad trackers found on this site.\n",
      "Big Number: 4\n",
      "Test Events Found: True\n",
      "\n",
      "Body:\n"
     ]
    },
    {
     "data": {
      "text/html": [
       "Websites containing advertising tracking technology load JavaScript code or small invisible images that are used to either build your advertising profile or to identify you for ad targeting on this site. These techniques are often used in addition to cookies to profile you."
      ],
      "text/plain": [
       "<IPython.core.display.HTML object>"
      ]
     },
     "metadata": {},
     "output_type": "display_data"
    },
    {
     "data": {
      "text/html": [
       "Blacklight detected trackers on this page sending data to companies involved in online advertising. Blacklight detected scripts belonging to the companies <strong>Alphabet, Inc.</strong> and <strong>Yandex LLC</strong>."
      ],
      "text/plain": [
       "<IPython.core.display.HTML object>"
      ]
     },
     "metadata": {},
     "output_type": "display_data"
    },
    {
     "name": "stdout",
     "output_type": "stream",
     "text": [
      "\n",
      "Expandable List:\n",
      "- ['Alphabet, Inc.', 'Yandex LLC']\n",
      "\n",
      "Domain Data:\n",
      "scripts: ['yandex.ru', 'doubleclick.net', 'googletagmanager.com', 'google.com']\n",
      "categories: ['Ad Motivated Tracking', 'Advertising', 'Analytics', 'Audience Measurement', 'SSO', 'Online Payment', 'Action Pixels', 'Embedded Content', 'Session Replay', 'CDN', 'Third-Party Analytics Marketing', 'Tag Manager']\n",
      "owners: ['Alphabet, Inc.', 'Yandex LLC']\n",
      "\n",
      "============================ Type 2 ============================\n",
      "Card Type: cookies\n",
      "Title: No third-party cookies found.\n",
      "Big Number: 0\n",
      "Test Events Found: False\n",
      "\n",
      "Body:\n"
     ]
    },
    {
     "data": {
      "text/html": [
       "These are commonly used by advertising tracking companies to profile you based on your internet usage."
      ],
      "text/plain": [
       "<IPython.core.display.HTML object>"
      ]
     },
     "metadata": {},
     "output_type": "display_data"
    },
    {
     "name": "stdout",
     "output_type": "stream",
     "text": [
      "\n",
      "Domain Data:\n",
      "scripts: []\n",
      "categories: []\n",
      "owners: []\n",
      "\n",
      "============================ Type 3 ============================\n",
      "Card Type: canvas_fingerprinters\n",
      "Title: Tracking that evades cookie blockers wasn't found.\n",
      "Big Number: N/A\n",
      "Test Events Found: False\n",
      "\n",
      "Body:\n"
     ]
    },
    {
     "data": {
      "text/html": [
       "Canvas fingerprinting was not detected on this website. This technique is designed to identify users even if they block third-party cookies. It can be used to track users across sites. It secretly draws an image on your browser when you visit websites that use it, for the purpose of identifying your device. This technique was used by six percent of popular sites when we <a href=\"https://themarkup.org/blacklight/2020/09/22/how-we-built-a-real-time-privacy-inspector#survey\"> scanned them</a> in September 2020."
      ],
      "text/plain": [
       "<IPython.core.display.HTML object>"
      ]
     },
     "metadata": {},
     "output_type": "display_data"
    },
    {
     "name": "stdout",
     "output_type": "stream",
     "text": [
      "\n",
      "Expandable List:\n",
      "\n",
      "============================ Type 4 ============================\n",
      "Card Type: session_recorders\n",
      "Title: Session recording services not found on this website.\n",
      "Big Number: N/A\n",
      "Test Events Found: False\n",
      "\n",
      "Body:\n"
     ]
    },
    {
     "data": {
      "text/html": [
       "Blacklight did not detect the use of a session recorder, which tracks user mouse movement, clicks, taps, scrolls, or even network activity. Websites that use the technique compile this data into videos and heat maps that website owners can watch to see how users interact with the site. Research has shown these practices are insecure and make sensitive user data such as passwords and credit card information more vulnerable to leaks. This technique was used by fifteen percent of popular websites when we <a href=\"https://themarkup.org/blacklight/2020/09/22/how-we-built-a-real-time-privacy-inspector#survey\"> scanned them</a> in September 2020."
      ],
      "text/plain": [
       "<IPython.core.display.HTML object>"
      ]
     },
     "metadata": {},
     "output_type": "display_data"
    },
    {
     "name": "stdout",
     "output_type": "stream",
     "text": [
      "\n",
      "Expandable List:\n",
      "\n",
      "============================ Type 5 ============================\n",
      "Card Type: key_logging\n",
      "Title: We found this website capturing user keystrokes.\n",
      "Big Number: N/A\n",
      "Test Events Found: True\n",
      "\n",
      "Body:\n"
     ]
    },
    {
     "data": {
      "text/html": [
       "Key logging is when a website captures the text that you type into a webpage before you hit the submit button. This technique has been used to identify anonymous web users by matching them to postal addresses and real names. This technique was used by four percent of popular websites when we <a href=\"https://themarkup.org/blacklight/2020/09/22/how-we-built-a-real-time-privacy-inspector#survey\"> scanned them</a> in September 2020."
      ],
      "text/plain": [
       "<IPython.core.display.HTML object>"
      ]
     },
     "metadata": {},
     "output_type": "display_data"
    },
    {
     "data": {
      "text/html": [
       "On the site you are inspecting, information entered in the <strong>search</strong> field was logged.\n"
      ],
      "text/plain": [
       "<IPython.core.display.HTML object>"
      ]
     },
     "metadata": {},
     "output_type": "display_data"
    },
    {
     "data": {
      "text/html": [
       " Blacklight detected a script loaded from <strong>zoon.com.ua</strong> doing this on this site."
      ],
      "text/plain": [
       "<IPython.core.display.HTML object>"
      ]
     },
     "metadata": {},
     "output_type": "display_data"
    },
    {
     "name": "stdout",
     "output_type": "stream",
     "text": [
      "\n",
      "Domain Data:\n",
      "scripts: ['zoon.com.ua']\n",
      "categories: []\n",
      "owners: []\n",
      "\n",
      "============================ Type 6 ============================\n",
      "Card Type: fb_pixel_events\n",
      "Title: Facebook Pixel not found on this website.\n",
      "Big Number: N/A\n",
      "Test Events Found: False\n",
      "\n",
      "Body:\n"
     ]
    },
    {
     "data": {
      "text/html": [
       "The Facebook pixel is a snippet of code that sends data back to Facebook about people who visit this site and allows the site operator to later target them with ads on Facebook. A Facebook spokesperson told The Markup that the company set up this system so that a user doesn’t have to be “simultaneously logged into Facebook and viewing a third-party website for our business tools to function.” Common actions that can be tracked via pixel include viewing a page or specific content, adding payment information, or making a purchase.  The Facebook pixel appeared in thirty percent of popular websites when we <a href=\"https://themarkup.org/blacklight/2020/09/22/how-we-built-a-real-time-privacy-inspector#survey\"> scanned them</a> in September 2020."
      ],
      "text/plain": [
       "<IPython.core.display.HTML object>"
      ]
     },
     "metadata": {},
     "output_type": "display_data"
    },
    {
     "name": "stdout",
     "output_type": "stream",
     "text": [
      "\n",
      "Expandable List:\n",
      "\n",
      "============================ Type 7 ============================\n",
      "Card Type: ga\n",
      "Title: This site allows Google Analytics to follow you across the internet.\n",
      "Big Number: N/A\n",
      "Test Events Found: True\n",
      "\n",
      "Body:\n"
     ]
    },
    {
     "data": {
      "text/html": [
       "This site uses Google Analytics and seems to use its ”remarketing audiences” feature that enables user tracking for targeted advertising across the internet. This feature allows a website to build custom audiences based on how a user interacts with this particular site and then follow those users across the internet and target them with advertising on other sites using Google Ads and Display & Video 360. A Google spokesperson told The Markup that site operators are <a href=\"https://support.google.com/analytics/answer/2700409?hl=en\"> supposed to</a> inform visitors when data collected with this feature is used to connect this browsing data with someone’s real-world identity. You know when those shoes you were looking at follow you around the internet? This is one of the trackers leading to that. This feature appeared in fifty percent of popular websites when we <a href=\"https://themarkup.org/blacklight/2020/09/22/how-we-built-a-real-time-privacy-inspector#survey\"> scanned them</a> in September 2020."
      ],
      "text/plain": [
       "<IPython.core.display.HTML object>"
      ]
     },
     "metadata": {},
     "output_type": "display_data"
    }
   ],
   "source": [
    "for i, card in enumerate(data[\"groups\"][0][\"cards\"], 1):\n",
    "    print(f\"\\n============================ Type {i} ============================\")\n",
    "    print(f\"Card Type: {card.get('cardType', 'N/A')}\")\n",
    "    print(f\"Title: {card.get('title', 'N/A')}\")\n",
    "    # Num of trackers?\n",
    "    print(f\"Big Number: {card.get('bigNumber', 'N/A')}\")\n",
    "    # Yes/no for detection of tracking type\n",
    "    print(f\"Test Events Found: {card.get('testEventsFound', 'N/A')}\")\n",
    "    \n",
    "    # Print body content\n",
    "    print(\"\\nBody:\")\n",
    "    for paragraph in card.get(\"body\", []):\n",
    "        display(HTML(paragraph))\n",
    "    \n",
    "    # Print expandable list if available -- seems to be a selection and not all\n",
    "    if \"expandableList\" in card:\n",
    "        print(\"\\nExpandable List:\")\n",
    "        for item in card[\"expandableList\"]:\n",
    "            print(\"-\", item)\n",
    "    \n",
    "    # Print domain data if available\n",
    "    if \"domainData\" in card and card[\"domainData\"] is not None:\n",
    "        print(\"\\nDomain Data:\")\n",
    "        for k, v in card[\"domainData\"].items():\n",
    "            print(f\"{k}: {v}\")\n"
   ]
  },
  {
   "cell_type": "code",
   "execution_count": 21,
   "id": "5cc70489",
   "metadata": {
    "ExecuteTime": {
     "end_time": "2025-03-29T01:25:59.094396Z",
     "start_time": "2025-03-29T01:25:59.087318Z"
    },
    "scrolled": false
   },
   "outputs": [
    {
     "name": "stdout",
     "output_type": "stream",
     "text": [
      "\n",
      "============================ Company 1 ============================\n",
      "Card Type: reported_alphabet\n",
      "Title: Alphabet\n",
      "Big Number: N/A\n",
      "Test Events Found: N/A\n",
      "\n",
      "Body:\n"
     ]
    },
    {
     "data": {
      "text/html": [
       "Blacklight detected this website sending user data to <a href=https://abc.xyz/>Alphabet,</a> the technology conglomerate that encompasses Google and associated companies like <a href=https://nest.com/>Nest</a>. The Silicon Valley giant collects data from twice the number of websites as its closest competitor, Facebook. An Alphabet spokesperson told The Markup that internet users can <a href=https://adssettings.google.com/authenticated>go here</a> if they want to opt out of the company showing them targeted ads based on their browsing history. "
      ],
      "text/plain": [
       "<IPython.core.display.HTML object>"
      ]
     },
     "metadata": {},
     "output_type": "display_data"
    },
    {
     "data": {
      "text/html": [
       "The site sent information to the following domains <strong>doubleclick.net</strong>, <strong>google-analytics.com</strong>, <strong>google.com</strong>, <strong>googletagmanager.com</strong>."
      ],
      "text/plain": [
       "<IPython.core.display.HTML object>"
      ]
     },
     "metadata": {},
     "output_type": "display_data"
    }
   ],
   "source": [
    "# Some of the ad-tech companies this website interacted with\n",
    "for i, card in enumerate(data[\"groups\"][1][\"cards\"], 1):\n",
    "    print(f\"\\n============================ Company {i} ============================\")\n",
    "    print(f\"Card Type: {card.get('cardType', 'N/A')}\")\n",
    "    print(f\"Title: {card.get('title', 'N/A')}\")\n",
    "    # Num of trackers?\n",
    "    print(f\"Big Number: {card.get('bigNumber', 'N/A')}\")\n",
    "    # Yes/no for detection of tracking type\n",
    "    print(f\"Test Events Found: {card.get('testEventsFound', 'N/A')}\")\n",
    "    \n",
    "    # Print body content\n",
    "    print(\"\\nBody:\")\n",
    "    for paragraph in card.get(\"body\", []):\n",
    "        display(HTML(paragraph))\n",
    "    \n",
    "    # Print expandable list if available\n",
    "    if \"expandableList\" in card:\n",
    "        print(\"\\nExpandable List:\")\n",
    "        for item in card[\"expandableList\"]:\n",
    "            print(\"-\", item)\n",
    "    \n",
    "    # Print domain data if available\n",
    "    if \"domainData\" in card and card[\"domainData\"] is not None:\n",
    "        print(\"\\nDomain Data:\")\n",
    "        for k, v in card[\"domainData\"].items():\n",
    "            print(f\"{k}: {v}\")\n"
   ]
  },
  {
   "cell_type": "markdown",
   "id": "c17caf05",
   "metadata": {},
   "source": [
    "## With session record"
   ]
  },
  {
   "cell_type": "markdown",
   "id": "b46b917c",
   "metadata": {},
   "source": [
    "## With key logging"
   ]
  },
  {
   "cell_type": "code",
   "execution_count": 22,
   "id": "08b4e544",
   "metadata": {
    "ExecuteTime": {
     "end_time": "2025-03-29T01:27:27.617891Z",
     "start_time": "2025-03-29T01:27:27.609269Z"
    }
   },
   "outputs": [
    {
     "data": {
      "text/html": [
       "<div>\n",
       "<style scoped>\n",
       "    .dataframe tbody tr th:only-of-type {\n",
       "        vertical-align: middle;\n",
       "    }\n",
       "\n",
       "    .dataframe tbody tr th {\n",
       "        vertical-align: top;\n",
       "    }\n",
       "\n",
       "    .dataframe thead th {\n",
       "        text-align: right;\n",
       "    }\n",
       "</style>\n",
       "<table border=\"1\" class=\"dataframe\">\n",
       "  <thead>\n",
       "    <tr style=\"text-align: right;\">\n",
       "      <th></th>\n",
       "      <th>filename</th>\n",
       "      <th>ddg_join_ads</th>\n",
       "      <th>third_party_cookies</th>\n",
       "      <th>canvas_fingerprinting</th>\n",
       "      <th>session_recording</th>\n",
       "      <th>key_logging</th>\n",
       "      <th>fb_pixel</th>\n",
       "      <th>google_analytics</th>\n",
       "    </tr>\n",
       "  </thead>\n",
       "  <tbody>\n",
       "    <tr>\n",
       "      <th>0</th>\n",
       "      <td>costarmanager_com</td>\n",
       "      <td>5</td>\n",
       "      <td>10</td>\n",
       "      <td>0</td>\n",
       "      <td>1</td>\n",
       "      <td>0</td>\n",
       "      <td>0</td>\n",
       "      <td>0</td>\n",
       "    </tr>\n",
       "    <tr>\n",
       "      <th>75</th>\n",
       "      <td>nsta_org</td>\n",
       "      <td>12</td>\n",
       "      <td>23</td>\n",
       "      <td>0</td>\n",
       "      <td>1</td>\n",
       "      <td>0</td>\n",
       "      <td>1</td>\n",
       "      <td>0</td>\n",
       "    </tr>\n",
       "    <tr>\n",
       "      <th>92</th>\n",
       "      <td>bluecosmo_com</td>\n",
       "      <td>6</td>\n",
       "      <td>8</td>\n",
       "      <td>0</td>\n",
       "      <td>1</td>\n",
       "      <td>0</td>\n",
       "      <td>1</td>\n",
       "      <td>1</td>\n",
       "    </tr>\n",
       "  </tbody>\n",
       "</table>\n",
       "</div>"
      ],
      "text/plain": [
       "             filename  ddg_join_ads  third_party_cookies  \\\n",
       "0   costarmanager_com             5                   10   \n",
       "75           nsta_org            12                   23   \n",
       "92      bluecosmo_com             6                    8   \n",
       "\n",
       "    canvas_fingerprinting  session_recording  key_logging  fb_pixel  \\\n",
       "0                       0                  1            0         0   \n",
       "75                      0                  1            0         1   \n",
       "92                      0                  1            0         1   \n",
       "\n",
       "    google_analytics  \n",
       "0                  0  \n",
       "75                 0  \n",
       "92                 1  "
      ]
     },
     "execution_count": 22,
     "metadata": {},
     "output_type": "execute_result"
    }
   ],
   "source": [
    "df_blacklight.query(\"session_recording>0\").head(3)"
   ]
  },
  {
   "cell_type": "code",
   "execution_count": 23,
   "id": "95f1f907",
   "metadata": {
    "ExecuteTime": {
     "end_time": "2025-03-29T01:27:31.421918Z",
     "start_time": "2025-03-29T01:27:31.408456Z"
    },
    "scrolled": false
   },
   "outputs": [
    {
     "name": "stdout",
     "output_type": "stream",
     "text": [
      "{'browser': {...},\n",
      " 'browsing_history': [...],\n",
      " 'config': {...},\n",
      " 'display_time': 'Jan. 9, 2025, 01:37 ET',\n",
      " 'end_time': '2025-01-09T06:37:45.017Z',\n",
      " 'groups': [...],\n",
      " 'host': 'costarmanager.com',\n",
      " 'hosts': {...},\n",
      " 's3': {...},\n",
      " 'script': {...},\n",
      " 'secure_connection': {},\n",
      " 'start_time': '2025-01-09T06:37:29.795Z',\n",
      " 'status': 'success',\n",
      " 'title': 'Blacklight - API Request',\n",
      " 'tracker_radar_last_updated': '2024-03-20T12:00:00.000Z',\n",
      " 'uri_dest': 'https://costarmanager.com/',\n",
      " 'uri_ins': 'http://costarmanager.com',\n",
      " 'uri_redirects': [...]}\n"
     ]
    }
   ],
   "source": [
    "with open('../data/blacklight_json/costarmanager_com.json', 'r') as f:\n",
    "    data = json.load(f)\n",
    "pprint(data, depth=1, width=80)"
   ]
  },
  {
   "cell_type": "code",
   "execution_count": 24,
   "id": "4bd061f7",
   "metadata": {
    "ExecuteTime": {
     "end_time": "2025-03-29T01:27:32.820468Z",
     "start_time": "2025-03-29T01:27:32.816532Z"
    }
   },
   "outputs": [
    {
     "data": {
      "text/plain": [
       "['https://costarmanager.com/',\n",
       " 'https://costarmanager.com/platform-overview?hsLang=en']"
      ]
     },
     "execution_count": 24,
     "metadata": {},
     "output_type": "execute_result"
    }
   ],
   "source": [
    "data[\"browsing_history\"]"
   ]
  },
  {
   "cell_type": "code",
   "execution_count": 27,
   "id": "9ee44eda",
   "metadata": {
    "ExecuteTime": {
     "end_time": "2025-03-29T01:28:19.323934Z",
     "start_time": "2025-03-29T01:28:19.305063Z"
    },
    "scrolled": false
   },
   "outputs": [
    {
     "name": "stdout",
     "output_type": "stream",
     "text": [
      "\n",
      "============================ Type 1 ============================\n",
      "Card Type: ddg_join_ads\n",
      "Title: Ad trackers found on this site.\n",
      "Big Number: 5\n",
      "Test Events Found: True\n",
      "\n",
      "Body:\n"
     ]
    },
    {
     "data": {
      "text/html": [
       "Websites containing advertising tracking technology load JavaScript code or small invisible images that are used to either build your advertising profile or to identify you for ad targeting on this site. These techniques are often used in addition to cookies to profile you."
      ],
      "text/plain": [
       "<IPython.core.display.HTML object>"
      ]
     },
     "metadata": {},
     "output_type": "display_data"
    },
    {
     "data": {
      "text/html": [
       "Blacklight detected trackers on this page sending data to companies involved in online advertising. Blacklight detected scripts belonging to the companies <strong>Alphabet, Inc.</strong> and <strong>HubSpot, Inc.</strong>."
      ],
      "text/plain": [
       "<IPython.core.display.HTML object>"
      ]
     },
     "metadata": {},
     "output_type": "display_data"
    },
    {
     "name": "stdout",
     "output_type": "stream",
     "text": [
      "\n",
      "Expandable List:\n",
      "- ['Alphabet, Inc.', 'HubSpot, Inc.']\n",
      "\n",
      "Domain Data:\n",
      "scripts: ['hsadspixel.net', 'doubleclick.net', 'google.com', 'googletagmanager.com', 'hubspot.com']\n",
      "categories: ['Ad Motivated Tracking', 'Advertising', 'Analytics', 'Third-Party Analytics Marketing', 'Embedded Content', 'Online Payment', 'CDN', 'Audience Measurement', 'Tag Manager', 'Action Pixels']\n",
      "owners: ['Alphabet, Inc.', 'HubSpot, Inc.']\n",
      "\n",
      "============================ Type 2 ============================\n",
      "Card Type: cookies\n",
      "Title: Third-party cookies found.\n",
      "Big Number: 10\n",
      "Test Events Found: True\n",
      "\n",
      "Body:\n"
     ]
    },
    {
     "data": {
      "text/html": [
       "These are commonly used by advertising tracking companies to profile you based on your internet usage."
      ],
      "text/plain": [
       "<IPython.core.display.HTML object>"
      ]
     },
     "metadata": {},
     "output_type": "display_data"
    },
    {
     "data": {
      "text/html": [
       "Blacklight detected <strong>10</strong> third-party cookies on this site.  Blacklight detected cookies set for <strong>Alphabet, Inc.</strong>, <strong>HubSpot, Inc.</strong> and <strong>Zoom Information, Inc.</strong>"
      ],
      "text/plain": [
       "<IPython.core.display.HTML object>"
      ]
     },
     "metadata": {},
     "output_type": "display_data"
    },
    {
     "name": "stdout",
     "output_type": "stream",
     "text": [
      "\n",
      "Expandable List:\n",
      "- ['HubSpot, Inc.', 'Alphabet, Inc.', 'Zoom Information, Inc.']\n",
      "\n",
      "Domain Data:\n",
      "scripts: ['hubspotusercontent-na1.net', 'hsadspixel.net', 'hs-banner.com', 'hscollectedforms.net', 'hs-analytics.net', 'hubspot.com', 'hubapi.com', 'doubleclick.net', 'zoominfo.com']\n",
      "categories: ['Ad Motivated Tracking', 'Advertising', 'Analytics', 'Audience Measurement', 'Third-Party Analytics Marketing', 'Action Pixels', 'Embedded Content']\n",
      "owners: ['HubSpot, Inc.', 'Alphabet, Inc.', 'Zoom Information, Inc.']\n",
      "\n",
      "============================ Type 3 ============================\n",
      "Card Type: canvas_fingerprinters\n",
      "Title: Tracking that evades cookie blockers wasn't found.\n",
      "Big Number: N/A\n",
      "Test Events Found: False\n",
      "\n",
      "Body:\n"
     ]
    },
    {
     "data": {
      "text/html": [
       "Canvas fingerprinting was not detected on this website. This technique is designed to identify users even if they block third-party cookies. It can be used to track users across sites. It secretly draws an image on your browser when you visit websites that use it, for the purpose of identifying your device. This technique was used by six percent of popular sites when we <a href=\"https://themarkup.org/blacklight/2020/09/22/how-we-built-a-real-time-privacy-inspector#survey\"> scanned them</a> in September 2020."
      ],
      "text/plain": [
       "<IPython.core.display.HTML object>"
      ]
     },
     "metadata": {},
     "output_type": "display_data"
    },
    {
     "name": "stdout",
     "output_type": "stream",
     "text": [
      "\n",
      "Expandable List:\n",
      "\n",
      "============================ Type 4 ============================\n",
      "Card Type: session_recorders\n",
      "Title: This website could be monitoring your keystrokes and mouse clicks.\n",
      "Big Number: N/A\n",
      "Test Events Found: True\n",
      "\n",
      "Body:\n"
     ]
    },
    {
     "data": {
      "text/html": [
       "Blacklight detected the use of a session recorder, which tracks user mouse movement, clicks, taps, scrolls, or even network activity. This data is compiled into videos and heat maps that website owners can watch to see how users interact with the site. Research has shown these practices can be insecure and make sensitive user data such as passwords and credit card information more vulnerable to leaks. This technique was used by fifteen percent of popular websites when we <a href=\"https://themarkup.org/blacklight/2020/09/22/how-we-built-a-real-time-privacy-inspector#survey\"> scanned them</a> in September 2020."
      ],
      "text/plain": [
       "<IPython.core.display.HTML object>"
      ]
     },
     "metadata": {},
     "output_type": "display_data"
    },
    {
     "data": {
      "text/html": [
       " Blacklight detected a script belonging to the company <strong>Lucky Orange LLC</strong> doing this on this site."
      ],
      "text/plain": [
       "<IPython.core.display.HTML object>"
      ]
     },
     "metadata": {},
     "output_type": "display_data"
    },
    {
     "name": "stdout",
     "output_type": "stream",
     "text": [
      "\n",
      "Domain Data:\n",
      "scripts: ['luckyorange.com']\n",
      "categories: []\n",
      "owners: ['Lucky Orange LLC']\n",
      "\n",
      "============================ Type 5 ============================\n",
      "Card Type: key_logging\n",
      "Title: We did not find this website capturing keystrokes.\n",
      "Big Number: N/A\n",
      "Test Events Found: False\n",
      "\n",
      "Body:\n"
     ]
    },
    {
     "data": {
      "text/html": [
       "Key logging is when a website captures the text that you type into a web page before you hit the submit button. This technique has been used to identify anonymous web users by matching them to postal addresses and real names. This technique was used by four percent of popular websites when we <a href=\"https://themarkup.org/blacklight/2020/09/22/how-we-built-a-real-time-privacy-inspector#survey\"> scanned them</a> in September 2020."
      ],
      "text/plain": [
       "<IPython.core.display.HTML object>"
      ]
     },
     "metadata": {},
     "output_type": "display_data"
    },
    {
     "name": "stdout",
     "output_type": "stream",
     "text": [
      "\n",
      "Expandable List:\n",
      "\n",
      "============================ Type 6 ============================\n",
      "Card Type: fb_pixel_events\n",
      "Title: Facebook Pixel not found on this website.\n",
      "Big Number: N/A\n",
      "Test Events Found: False\n",
      "\n",
      "Body:\n"
     ]
    },
    {
     "data": {
      "text/html": [
       "The Facebook pixel is a snippet of code that sends data back to Facebook about people who visit this site and allows the site operator to later target them with ads on Facebook. A Facebook spokesperson told The Markup that the company set up this system so that a user doesn’t have to be “simultaneously logged into Facebook and viewing a third-party website for our business tools to function.” Common actions that can be tracked via pixel include viewing a page or specific content, adding payment information, or making a purchase.  The Facebook pixel appeared in thirty percent of popular websites when we <a href=\"https://themarkup.org/blacklight/2020/09/22/how-we-built-a-real-time-privacy-inspector#survey\"> scanned them</a> in September 2020."
      ],
      "text/plain": [
       "<IPython.core.display.HTML object>"
      ]
     },
     "metadata": {},
     "output_type": "display_data"
    },
    {
     "name": "stdout",
     "output_type": "stream",
     "text": [
      "\n",
      "Expandable List:\n",
      "\n",
      "============================ Type 7 ============================\n",
      "Card Type: ga\n",
      "Title: Google Analytics' \"remarketing audiences\" feature not found.\n",
      "Big Number: N/A\n",
      "Test Events Found: False\n",
      "\n",
      "Body:\n"
     ]
    },
    {
     "data": {
      "text/html": [
       "The Google Analytics \"remarketing audiences\" feature enables user tracking for targeted advertising across the internet. This feature allows a website to build custom audiences based on how a user interacts with this particular site and then follow those users across the internet and target them with advertising on other sites using Google Ads and Display & Video 360. A Google spokesperson told The Markup that site operators are <a href=\"https://support.google.com/analytics/answer/2700409?hl=en\"> supposed to</a> inform visitors when data collected with this feature is used to connect this browsing data with someone’s real-world identity. You know when those shoes you were looking at follow you around the internet? This is one of the trackers leading to that. This feature appeared in fifty percent of popular websites when we <a href=\"https://themarkup.org/blacklight/2020/09/22/how-we-built-a-real-time-privacy-inspector#survey\"> scanned them</a> in September 2020."
      ],
      "text/plain": [
       "<IPython.core.display.HTML object>"
      ]
     },
     "metadata": {},
     "output_type": "display_data"
    }
   ],
   "source": [
    "for i, card in enumerate(data[\"groups\"][0][\"cards\"], 1):\n",
    "    print(f\"\\n============================ Type {i} ============================\")\n",
    "    print(f\"Card Type: {card.get('cardType', 'N/A')}\")\n",
    "    print(f\"Title: {card.get('title', 'N/A')}\")\n",
    "    # Num of trackers?\n",
    "    print(f\"Big Number: {card.get('bigNumber', 'N/A')}\")\n",
    "    # Yes/no for detection of tracking type\n",
    "    print(f\"Test Events Found: {card.get('testEventsFound', 'N/A')}\")\n",
    "    \n",
    "    # Print body content\n",
    "    print(\"\\nBody:\")\n",
    "    for paragraph in card.get(\"body\", []):\n",
    "        display(HTML(paragraph))\n",
    "    \n",
    "    # Print expandable list if available -- seems to be a selection and not all\n",
    "    if \"expandableList\" in card:\n",
    "        print(\"\\nExpandable List:\")\n",
    "        for item in card[\"expandableList\"]:\n",
    "            print(\"-\", item)\n",
    "    \n",
    "    # Print domain data if available\n",
    "    if \"domainData\" in card and card[\"domainData\"] is not None:\n",
    "        print(\"\\nDomain Data:\")\n",
    "        for k, v in card[\"domainData\"].items():\n",
    "            print(f\"{k}: {v}\")\n"
   ]
  },
  {
   "cell_type": "code",
   "execution_count": 28,
   "id": "9d94a15e",
   "metadata": {
    "ExecuteTime": {
     "end_time": "2025-03-29T01:28:19.519312Z",
     "start_time": "2025-03-29T01:28:19.512576Z"
    },
    "scrolled": false
   },
   "outputs": [
    {
     "name": "stdout",
     "output_type": "stream",
     "text": [
      "\n",
      "============================ Company 1 ============================\n",
      "Card Type: reported_alphabet\n",
      "Title: Alphabet\n",
      "Big Number: N/A\n",
      "Test Events Found: N/A\n",
      "\n",
      "Body:\n"
     ]
    },
    {
     "data": {
      "text/html": [
       "Blacklight detected this website sending user data to <a href=https://abc.xyz/>Alphabet,</a> the technology conglomerate that encompasses Google and associated companies like <a href=https://nest.com/>Nest</a>. The Silicon Valley giant collects data from twice the number of websites as its closest competitor, Facebook. An Alphabet spokesperson told The Markup that internet users can <a href=https://adssettings.google.com/authenticated>go here</a> if they want to opt out of the company showing them targeted ads based on their browsing history. "
      ],
      "text/plain": [
       "<IPython.core.display.HTML object>"
      ]
     },
     "metadata": {},
     "output_type": "display_data"
    },
    {
     "data": {
      "text/html": [
       "The site sent information to the following domains <strong>doubleclick.net</strong>, <strong>google-analytics.com</strong>, <strong>google.com</strong>, <strong>googletagmanager.com</strong>."
      ],
      "text/plain": [
       "<IPython.core.display.HTML object>"
      ]
     },
     "metadata": {},
     "output_type": "display_data"
    }
   ],
   "source": [
    "# Some of the ad-tech companies this website interacted with\n",
    "for i, card in enumerate(data[\"groups\"][1][\"cards\"], 1):\n",
    "    print(f\"\\n============================ Company {i} ============================\")\n",
    "    print(f\"Card Type: {card.get('cardType', 'N/A')}\")\n",
    "    print(f\"Title: {card.get('title', 'N/A')}\")\n",
    "    # Num of trackers?\n",
    "    print(f\"Big Number: {card.get('bigNumber', 'N/A')}\")\n",
    "    # Yes/no for detection of tracking type\n",
    "    print(f\"Test Events Found: {card.get('testEventsFound', 'N/A')}\")\n",
    "    \n",
    "    # Print body content\n",
    "    print(\"\\nBody:\")\n",
    "    for paragraph in card.get(\"body\", []):\n",
    "        display(HTML(paragraph))\n",
    "    \n",
    "    # Print expandable list if available\n",
    "    if \"expandableList\" in card:\n",
    "        print(\"\\nExpandable List:\")\n",
    "        for item in card[\"expandableList\"]:\n",
    "            print(\"-\", item)\n",
    "    \n",
    "    # Print domain data if available\n",
    "    if \"domainData\" in card and card[\"domainData\"] is not None:\n",
    "        print(\"\\nDomain Data:\")\n",
    "        for k, v in card[\"domainData\"].items():\n",
    "            print(f\"{k}: {v}\")\n"
   ]
  },
  {
   "cell_type": "code",
   "execution_count": null,
   "id": "cd707e91",
   "metadata": {},
   "outputs": [],
   "source": []
  },
  {
   "cell_type": "code",
   "execution_count": null,
   "id": "d9f8c61c",
   "metadata": {},
   "outputs": [],
   "source": []
  }
 ],
 "metadata": {
  "kernelspec": {
   "display_name": "Python (venv)",
   "language": "python",
   "name": "venv"
  },
  "language_info": {
   "codemirror_mode": {
    "name": "ipython",
    "version": 3
   },
   "file_extension": ".py",
   "mimetype": "text/x-python",
   "name": "python",
   "nbconvert_exporter": "python",
   "pygments_lexer": "ipython3",
   "version": "3.10.11"
  },
  "toc": {
   "base_numbering": 1,
   "nav_menu": {},
   "number_sections": true,
   "sideBar": true,
   "skip_h1_title": false,
   "title_cell": "Table of Contents",
   "title_sidebar": "Contents",
   "toc_cell": false,
   "toc_position": {},
   "toc_section_display": true,
   "toc_window_display": true
  }
 },
 "nbformat": 4,
 "nbformat_minor": 5
}
